{
 "cells": [
  {
   "cell_type": "code",
   "execution_count": 1,
   "id": "6402cc92-47bd-4be1-8d92-28f88aa7fd6f",
   "metadata": {},
   "outputs": [
    {
     "name": "stdout",
     "output_type": "stream",
     "text": [
      "2025-09-22 11:52:06,222 - PySpice.Spice.NgSpice.Shared.NgSpiceShared - Shared.WARNING - Warning: can't find the initialization file spinit.\n",
      "2025-09-22 11:52:06,237 - PySpice.Spice.NgSpice.Shared.NgSpiceShared - Shared.WARNING - Unsupported Ngspice version 44\n"
     ]
    }
   ],
   "source": [
    "import PySpice.Logging.Logging as Logging\n",
    "from PySpice.Spice.Netlist import Circuit\n",
    "from PySpice.Unit import *\n",
    "\n",
    "logger = Logging.setup_logging()\n",
    "\n",
    "# -------------------------------------------------------------\n",
    "# Define Circuit\n",
    "# -------------------------------------------------------------\n",
    "circuit = Circuit(\"Avalanche Pulse Generator\")\n",
    "\n",
    "# --- Power supplies ---\n",
    "circuit.V('1', 'Vin', circuit.gnd, 1.5@u_V)           # AA cell (not used directly here)\n",
    "circuit.V('bias', 'Vcc', circuit.gnd, 90@u_V)         # Boosted 90 V supply\n",
    "\n",
    "# --- Collector resistor RC ---\n",
    "circuit.R('C', 'Vcc', 'Cnode', 100@u_kOhm)            # RC between Vcc and transistor collector to be 100kohm\n",
    "\n",
    "# --- Bias network for base --- basically using the voltage divider rule\n",
    "circuit.R('6', 'Vcc', 'bias_node', 1@u_MOhm)          # divider upper resistor\n",
    "circuit.R('2', 'bias_node', circuit.gnd, 10@u_MOhm)   # divider lower resistor (helps in creating a reference voltage without a second battery)\n",
    "circuit.R('B', 'bias_node', 'Bnode', 10@u_kOhm)       # RB from divider to base to be 10kohm\n",
    "\n",
    "# --- Transistor Q1 ---\n",
    "# Node order: collector, base, emitter\n",
    "circuit.BJT('Q1', 'Cnode', 'Bnode', circuit.gnd, model='2N2369') #2n2369 is good for avalanching\n",
    "\n",
    "# --- Load resistor ---\n",
    "circuit.R('L', 'Cnode', circuit.gnd, 50@u_Ohm)        # 50 Ω load connected at collector. this is where the spike is generated and hence the output.\n",
    "\n",
    "# --- Storage capacitor (C_Ace) ---\n",
    "circuit.C('Ace', 'Cnode', circuit.gnd, 2@u_pF)        # When the transistor suddenly breaks down (avalanches), it provides a path \n",
    "#for this stored energy to be dumped very quickly through the load resistor, creating the powerful, fast pulse. \n",
    "#This component is shown in the right-hand equivalent circuit.\n",
    "\n",
    "# Insert 2N2369 model \n",
    "circuit.raw_spice += \"\"\"\n",
    ".model 2N2369 NPN (\n",
    "+ IS=14.34f BF=255.9 NF=1.036 VAF=74.03 IKF=63.21m\n",
    "+ ISE=14.34f NE=1.5 BR=6.092 NR=1.004 VAR=10.73 IKR=10m\n",
    "+ ISC=0 NC=2 RB=10 IRB=0.1m RBM=5 RE=0.1 RC=0.3\n",
    "+ CJE=26.19p VJE=0.75 MJE=0.33 TF=0.53n\n",
    "+ XTF=3 VTF=4 ITF=1\n",
    "+ CJC=9.52p VJC=0.55 MJC=0.33 XCJC=0.9\n",
    "+ TR=50n CJS=0 VJS=0.75 MJS=0.5\n",
    "+ EG=1.11 XTB=1.5 KF=0 AF=1 )\n",
    "\"\"\"\n",
    "\n",
    "# Simulation\n",
    "simulator = circuit.simulator(temperature=25, nominal_temperature=25) #sim temp set at 25\n",
    "analysis = simulator.transient(step_time=2@u_ps, end_time=50@u_ns)\n"
   ]
  },
  {
   "cell_type": "code",
   "execution_count": null,
   "id": "27b8b6f4-f276-478d-ac07-20068a9852d9",
   "metadata": {},
   "outputs": [],
   "source": []
  }
 ],
 "metadata": {
  "kernelspec": {
   "display_name": "Python 3 (ipykernel)",
   "language": "python",
   "name": "python3"
  },
  "language_info": {
   "codemirror_mode": {
    "name": "ipython",
    "version": 3
   },
   "file_extension": ".py",
   "mimetype": "text/x-python",
   "name": "python",
   "nbconvert_exporter": "python",
   "pygments_lexer": "ipython3",
   "version": "3.9.4"
  }
 },
 "nbformat": 4,
 "nbformat_minor": 5
}
